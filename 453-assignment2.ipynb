{
 "cells": [
  {
   "cell_type": "markdown",
   "metadata": {},
   "source": [
    "# BAX 453 - Assignment 2\n",
    "# Michael Chen"
   ]
  },
  {
   "cell_type": "markdown",
   "metadata": {},
   "source": [
    "## Business Case\n",
    "\n",
    "Online retail company XYZ sells various products and looking to increase its revenue by promoting cross-selling (i.e. selling related or complementary items) opportunities to its customers. The company is looking to apply advanced analytics on its historical transactional data to answer the following business question:\n",
    "\n",
    "When a customer buys an item, what are the related or complementary items that can be presented to them to promote cross-selling?\n",
    " "
   ]
  },
  {
   "cell_type": "markdown",
   "metadata": {},
   "source": [
    "## Data Preparation"
   ]
  },
  {
   "cell_type": "code",
   "execution_count": 130,
   "metadata": {},
   "outputs": [],
   "source": [
    "import pandas as pd\n",
    "import re"
   ]
  },
  {
   "cell_type": "code",
   "execution_count": 131,
   "metadata": {},
   "outputs": [],
   "source": [
    "txac = pd.read_excel('transactions_by_dept.xlsx')"
   ]
  },
  {
   "cell_type": "code",
   "execution_count": 132,
   "metadata": {},
   "outputs": [
    {
     "data": {
      "text/html": [
       "<div>\n",
       "<style scoped>\n",
       "    .dataframe tbody tr th:only-of-type {\n",
       "        vertical-align: middle;\n",
       "    }\n",
       "\n",
       "    .dataframe tbody tr th {\n",
       "        vertical-align: top;\n",
       "    }\n",
       "\n",
       "    .dataframe thead th {\n",
       "        text-align: right;\n",
       "    }\n",
       "</style>\n",
       "<table border=\"1\" class=\"dataframe\">\n",
       "  <thead>\n",
       "    <tr style=\"text-align: right;\">\n",
       "      <th></th>\n",
       "      <th>POS Txn</th>\n",
       "      <th>Dept</th>\n",
       "      <th>ID</th>\n",
       "      <th>Sales U</th>\n",
       "    </tr>\n",
       "  </thead>\n",
       "  <tbody>\n",
       "    <tr>\n",
       "      <th>0</th>\n",
       "      <td>16120100160021008773</td>\n",
       "      <td>0261:HOSIERY</td>\n",
       "      <td>250</td>\n",
       "      <td>2</td>\n",
       "    </tr>\n",
       "    <tr>\n",
       "      <th>1</th>\n",
       "      <td>16120100160021008773</td>\n",
       "      <td>0634:VITAMINS &amp; HLTH AIDS</td>\n",
       "      <td>102</td>\n",
       "      <td>1</td>\n",
       "    </tr>\n",
       "    <tr>\n",
       "      <th>2</th>\n",
       "      <td>16120100160021008773</td>\n",
       "      <td>0879:PET SUPPLIES</td>\n",
       "      <td>158</td>\n",
       "      <td>2</td>\n",
       "    </tr>\n",
       "    <tr>\n",
       "      <th>3</th>\n",
       "      <td>16120100160021008773</td>\n",
       "      <td>0973:CANDY</td>\n",
       "      <td>175</td>\n",
       "      <td>2</td>\n",
       "    </tr>\n",
       "    <tr>\n",
       "      <th>4</th>\n",
       "      <td>16120100160021008773</td>\n",
       "      <td>0982:SPIRITS</td>\n",
       "      <td>176</td>\n",
       "      <td>1</td>\n",
       "    </tr>\n",
       "  </tbody>\n",
       "</table>\n",
       "</div>"
      ],
      "text/plain": [
       "                POS Txn                       Dept   ID  Sales U\n",
       "0  16120100160021008773               0261:HOSIERY  250        2\n",
       "1  16120100160021008773  0634:VITAMINS & HLTH AIDS  102        1\n",
       "2  16120100160021008773          0879:PET SUPPLIES  158        2\n",
       "3  16120100160021008773                 0973:CANDY  175        2\n",
       "4  16120100160021008773               0982:SPIRITS  176        1"
      ]
     },
     "execution_count": 132,
     "metadata": {},
     "output_type": "execute_result"
    }
   ],
   "source": [
    "txac.head()"
   ]
  },
  {
   "cell_type": "code",
   "execution_count": 133,
   "metadata": {},
   "outputs": [],
   "source": [
    "def get_rid_of_dept_num(string):\n",
    "    \"\"\"Helper function to strip Dept number in front of items.\"\"\"\n",
    "    return re.findall(\"\\:(.*)\", string)[0]"
   ]
  },
  {
   "cell_type": "code",
   "execution_count": 134,
   "metadata": {},
   "outputs": [],
   "source": [
    "txac['Dept_strip'] = txac['Dept'].apply(lambda x: get_rid_of_dept_num(x))"
   ]
  },
  {
   "cell_type": "code",
   "execution_count": 135,
   "metadata": {},
   "outputs": [],
   "source": [
    "items_by_pos = txac.groupby('POS Txn')['Dept_strip'].apply(','.join).reset_index()\n",
    "items_by_pos['Dept_strip'] = items_by_pos['Dept_strip'].apply(lambda x: x.split(\",\"))"
   ]
  },
  {
   "cell_type": "code",
   "execution_count": 136,
   "metadata": {},
   "outputs": [
    {
     "data": {
      "text/html": [
       "<div>\n",
       "<style scoped>\n",
       "    .dataframe tbody tr th:only-of-type {\n",
       "        vertical-align: middle;\n",
       "    }\n",
       "\n",
       "    .dataframe tbody tr th {\n",
       "        vertical-align: top;\n",
       "    }\n",
       "\n",
       "    .dataframe thead th {\n",
       "        text-align: right;\n",
       "    }\n",
       "</style>\n",
       "<table border=\"1\" class=\"dataframe\">\n",
       "  <thead>\n",
       "    <tr style=\"text-align: right;\">\n",
       "      <th></th>\n",
       "      <th>POS Txn</th>\n",
       "      <th>Dept_strip</th>\n",
       "    </tr>\n",
       "  </thead>\n",
       "  <tbody>\n",
       "    <tr>\n",
       "      <th>0</th>\n",
       "      <td>16120100160021008773</td>\n",
       "      <td>[HOSIERY, VITAMINS &amp; HLTH AIDS, PET SUPPLIES, ...</td>\n",
       "    </tr>\n",
       "    <tr>\n",
       "      <th>1</th>\n",
       "      <td>16120100160021008774</td>\n",
       "      <td>[HEALTH AIDS, PERSONAL CARE]</td>\n",
       "    </tr>\n",
       "    <tr>\n",
       "      <th>2</th>\n",
       "      <td>16120100160021008775</td>\n",
       "      <td>[PRE-RECORDED A/V, SMALL ELECTRICS, SPIRITS]</td>\n",
       "    </tr>\n",
       "    <tr>\n",
       "      <th>3</th>\n",
       "      <td>16120100160021008776</td>\n",
       "      <td>[GENERAL GROCERIES]</td>\n",
       "    </tr>\n",
       "    <tr>\n",
       "      <th>4</th>\n",
       "      <td>16120100160021008777</td>\n",
       "      <td>[SPIRITS]</td>\n",
       "    </tr>\n",
       "  </tbody>\n",
       "</table>\n",
       "</div>"
      ],
      "text/plain": [
       "                POS Txn                                         Dept_strip\n",
       "0  16120100160021008773  [HOSIERY, VITAMINS & HLTH AIDS, PET SUPPLIES, ...\n",
       "1  16120100160021008774                       [HEALTH AIDS, PERSONAL CARE]\n",
       "2  16120100160021008775       [PRE-RECORDED A/V, SMALL ELECTRICS, SPIRITS]\n",
       "3  16120100160021008776                                [GENERAL GROCERIES]\n",
       "4  16120100160021008777                                          [SPIRITS]"
      ]
     },
     "execution_count": 136,
     "metadata": {},
     "output_type": "execute_result"
    }
   ],
   "source": [
    "items_by_pos.head()"
   ]
  },
  {
   "cell_type": "markdown",
   "metadata": {},
   "source": [
    "## Association Rule Mining"
   ]
  },
  {
   "cell_type": "markdown",
   "metadata": {},
   "source": [
    "Machine Learning Project: Generate frequent itemsets and association rules for a recommender system using Association Rule Mining*. Feel free to choose appropriate levels of minimum support and minimum confidence (e.g., 0.20 support and 30% confidence)."
   ]
  },
  {
   "cell_type": "code",
   "execution_count": 137,
   "metadata": {},
   "outputs": [],
   "source": [
    "from mlxtend.preprocessing import TransactionEncoder\n",
    "from mlxtend.frequent_patterns import apriori\n",
    "from mlxtend.frequent_patterns import association_rules"
   ]
  },
  {
   "cell_type": "markdown",
   "metadata": {},
   "source": [
    "### Frequent itemsets"
   ]
  },
  {
   "cell_type": "code",
   "execution_count": 138,
   "metadata": {},
   "outputs": [
    {
     "data": {
      "text/html": [
       "<div>\n",
       "<style scoped>\n",
       "    .dataframe tbody tr th:only-of-type {\n",
       "        vertical-align: middle;\n",
       "    }\n",
       "\n",
       "    .dataframe tbody tr th {\n",
       "        vertical-align: top;\n",
       "    }\n",
       "\n",
       "    .dataframe thead th {\n",
       "        text-align: right;\n",
       "    }\n",
       "</style>\n",
       "<table border=\"1\" class=\"dataframe\">\n",
       "  <thead>\n",
       "    <tr style=\"text-align: right;\">\n",
       "      <th></th>\n",
       "      <th>support</th>\n",
       "      <th>itemsets</th>\n",
       "    </tr>\n",
       "  </thead>\n",
       "  <tbody>\n",
       "    <tr>\n",
       "      <th>0</th>\n",
       "      <td>0.049903</td>\n",
       "      <td>(AMERICAN GREETINGS)</td>\n",
       "    </tr>\n",
       "    <tr>\n",
       "      <th>1</th>\n",
       "      <td>0.010174</td>\n",
       "      <td>(AS SEEN ON TV)</td>\n",
       "    </tr>\n",
       "    <tr>\n",
       "      <th>2</th>\n",
       "      <td>0.011143</td>\n",
       "      <td>(AUDIO ELECTRONICS)</td>\n",
       "    </tr>\n",
       "    <tr>\n",
       "      <th>3</th>\n",
       "      <td>0.016957</td>\n",
       "      <td>(BABY CARE)</td>\n",
       "    </tr>\n",
       "    <tr>\n",
       "      <th>4</th>\n",
       "      <td>0.054264</td>\n",
       "      <td>(BARBER SERVICES)</td>\n",
       "    </tr>\n",
       "    <tr>\n",
       "      <th>...</th>\n",
       "      <td>...</td>\n",
       "      <td>...</td>\n",
       "    </tr>\n",
       "    <tr>\n",
       "      <th>76</th>\n",
       "      <td>0.017926</td>\n",
       "      <td>(PERSONAL CARE, HOUSEHOLD CLEANING)</td>\n",
       "    </tr>\n",
       "    <tr>\n",
       "      <th>77</th>\n",
       "      <td>0.010659</td>\n",
       "      <td>(HOUSEHOLD CLEANING, SPIRITS)</td>\n",
       "    </tr>\n",
       "    <tr>\n",
       "      <th>78</th>\n",
       "      <td>0.025194</td>\n",
       "      <td>(TOBACCO, SPIRITS)</td>\n",
       "    </tr>\n",
       "    <tr>\n",
       "      <th>79</th>\n",
       "      <td>0.037306</td>\n",
       "      <td>(SPIRITS, WINE)</td>\n",
       "    </tr>\n",
       "    <tr>\n",
       "      <th>80</th>\n",
       "      <td>0.010659</td>\n",
       "      <td>(PERSONAL CARE, HOUSEHOLD CLEANING, HEALTH AIDS)</td>\n",
       "    </tr>\n",
       "  </tbody>\n",
       "</table>\n",
       "<p>81 rows × 2 columns</p>\n",
       "</div>"
      ],
      "text/plain": [
       "     support                                          itemsets\n",
       "0   0.049903                              (AMERICAN GREETINGS)\n",
       "1   0.010174                                   (AS SEEN ON TV)\n",
       "2   0.011143                               (AUDIO ELECTRONICS)\n",
       "3   0.016957                                       (BABY CARE)\n",
       "4   0.054264                                 (BARBER SERVICES)\n",
       "..       ...                                               ...\n",
       "76  0.017926               (PERSONAL CARE, HOUSEHOLD CLEANING)\n",
       "77  0.010659                     (HOUSEHOLD CLEANING, SPIRITS)\n",
       "78  0.025194                                (TOBACCO, SPIRITS)\n",
       "79  0.037306                                   (SPIRITS, WINE)\n",
       "80  0.010659  (PERSONAL CARE, HOUSEHOLD CLEANING, HEALTH AIDS)\n",
       "\n",
       "[81 rows x 2 columns]"
      ]
     },
     "execution_count": 138,
     "metadata": {},
     "output_type": "execute_result"
    }
   ],
   "source": [
    "items_set = list(items_by_pos['Dept_strip'])\n",
    "te = TransactionEncoder()\n",
    "te_ary = te.fit(items_set).transform(items_set)\n",
    "df = pd.DataFrame(te_ary, columns=te.columns_)\n",
    "frequent_itemsets = apriori(df, min_support=0.01, use_colnames=True)\n",
    "\n",
    "frequent_itemsets"
   ]
  },
  {
   "cell_type": "markdown",
   "metadata": {},
   "source": [
    "### Association Rules"
   ]
  },
  {
   "cell_type": "code",
   "execution_count": 142,
   "metadata": {},
   "outputs": [
    {
     "data": {
      "text/html": [
       "<div>\n",
       "<style scoped>\n",
       "    .dataframe tbody tr th:only-of-type {\n",
       "        vertical-align: middle;\n",
       "    }\n",
       "\n",
       "    .dataframe tbody tr th {\n",
       "        vertical-align: top;\n",
       "    }\n",
       "\n",
       "    .dataframe thead th {\n",
       "        text-align: right;\n",
       "    }\n",
       "</style>\n",
       "<table border=\"1\" class=\"dataframe\">\n",
       "  <thead>\n",
       "    <tr style=\"text-align: right;\">\n",
       "      <th></th>\n",
       "      <th>antecedents</th>\n",
       "      <th>consequents</th>\n",
       "      <th>antecedent support</th>\n",
       "      <th>consequent support</th>\n",
       "      <th>support</th>\n",
       "      <th>confidence</th>\n",
       "      <th>lift</th>\n",
       "      <th>leverage</th>\n",
       "      <th>conviction</th>\n",
       "    </tr>\n",
       "  </thead>\n",
       "  <tbody>\n",
       "    <tr>\n",
       "      <th>0</th>\n",
       "      <td>(MASS COSMETICS)</td>\n",
       "      <td>(BEAUTY CARE)</td>\n",
       "      <td>0.025194</td>\n",
       "      <td>0.064438</td>\n",
       "      <td>0.010174</td>\n",
       "      <td>0.403846</td>\n",
       "      <td>6.267206</td>\n",
       "      <td>0.008551</td>\n",
       "      <td>1.569330</td>\n",
       "    </tr>\n",
       "    <tr>\n",
       "      <th>1</th>\n",
       "      <td>(GENERAL GROCERIES)</td>\n",
       "      <td>(BEVERAGES)</td>\n",
       "      <td>0.047965</td>\n",
       "      <td>0.122578</td>\n",
       "      <td>0.020833</td>\n",
       "      <td>0.434343</td>\n",
       "      <td>3.543418</td>\n",
       "      <td>0.014954</td>\n",
       "      <td>1.551158</td>\n",
       "    </tr>\n",
       "    <tr>\n",
       "      <th>2</th>\n",
       "      <td>(PERSONAL CARE)</td>\n",
       "      <td>(HEALTH AIDS)</td>\n",
       "      <td>0.073643</td>\n",
       "      <td>0.096899</td>\n",
       "      <td>0.031008</td>\n",
       "      <td>0.421053</td>\n",
       "      <td>4.345263</td>\n",
       "      <td>0.023872</td>\n",
       "      <td>1.559901</td>\n",
       "    </tr>\n",
       "    <tr>\n",
       "      <th>3</th>\n",
       "      <td>(WINE)</td>\n",
       "      <td>(SPIRITS)</td>\n",
       "      <td>0.093023</td>\n",
       "      <td>0.152132</td>\n",
       "      <td>0.037306</td>\n",
       "      <td>0.401042</td>\n",
       "      <td>2.636146</td>\n",
       "      <td>0.023154</td>\n",
       "      <td>1.415571</td>\n",
       "    </tr>\n",
       "    <tr>\n",
       "      <th>4</th>\n",
       "      <td>(PERSONAL CARE, HOUSEHOLD CLEANING)</td>\n",
       "      <td>(HEALTH AIDS)</td>\n",
       "      <td>0.017926</td>\n",
       "      <td>0.096899</td>\n",
       "      <td>0.010659</td>\n",
       "      <td>0.594595</td>\n",
       "      <td>6.136216</td>\n",
       "      <td>0.008922</td>\n",
       "      <td>2.227649</td>\n",
       "    </tr>\n",
       "  </tbody>\n",
       "</table>\n",
       "</div>"
      ],
      "text/plain": [
       "                           antecedents    consequents  antecedent support  \\\n",
       "0                     (MASS COSMETICS)  (BEAUTY CARE)            0.025194   \n",
       "1                  (GENERAL GROCERIES)    (BEVERAGES)            0.047965   \n",
       "2                      (PERSONAL CARE)  (HEALTH AIDS)            0.073643   \n",
       "3                               (WINE)      (SPIRITS)            0.093023   \n",
       "4  (PERSONAL CARE, HOUSEHOLD CLEANING)  (HEALTH AIDS)            0.017926   \n",
       "\n",
       "   consequent support   support  confidence      lift  leverage  conviction  \n",
       "0            0.064438  0.010174    0.403846  6.267206  0.008551    1.569330  \n",
       "1            0.122578  0.020833    0.434343  3.543418  0.014954    1.551158  \n",
       "2            0.096899  0.031008    0.421053  4.345263  0.023872    1.559901  \n",
       "3            0.152132  0.037306    0.401042  2.636146  0.023154    1.415571  \n",
       "4            0.096899  0.010659    0.594595  6.136216  0.008922    2.227649  "
      ]
     },
     "execution_count": 142,
     "metadata": {},
     "output_type": "execute_result"
    }
   ],
   "source": [
    "association_rules(frequent_itemsets, metric=\"confidence\", min_threshold=0.4)"
   ]
  },
  {
   "cell_type": "markdown",
   "metadata": {},
   "source": [
    "## Business Recommendations"
   ]
  },
  {
   "cell_type": "markdown",
   "metadata": {},
   "source": [
    "* In-Store Arrangement Optimization\n",
    "    - According to this association rule, the grocery store could make adjustments on items arrangements based on the above table. For example, make small piles of beverages avaiable among the general groceries, fresh and area with spaces. This could lead to potentially more sales of the items and therefore more revenue by promoting cross-sell.\n",
    "    - The aisles in the store can be arranged accoridng to the relationships between antecedents and consequents to promote more complimentary purchases or relevant purchases.\n",
    "    <br>\n",
    "* Online Recommendation System\n",
    "  - This rule could be used to implement a recommendation system to suggest \"what is next to buy\"? When a customer put certain items in the shopping cart, the system could give him/her recommendations like \"People buy this also buy...\" according to both antecedents and consequents generated by the above rule. For example, once a customer buys MASS COSMETICS, items from BEAUTY CARE would be recommended. This could as well lead to more revenue by promoting cross-sell."
   ]
  },
  {
   "cell_type": "markdown",
   "metadata": {},
   "source": [
    "## Additional business use cases"
   ]
  },
  {
   "cell_type": "markdown",
   "metadata": {},
   "source": [
    "Research and identify three additional business use cases where Association Rule Mining can be used to deliver business outcomes? Practice your storytelling communication skills! "
   ]
  },
  {
   "cell_type": "markdown",
   "metadata": {},
   "source": [
    "<table>\n",
    "  <tr>\n",
    "    <th>Business Question</th>\n",
    "    <th>Data Need</th>\n",
    "    <th>Predictive Analytics</th>\n",
    "    <th>Business Action</th>\n",
    "    <th>Business Outcome</th>  \n",
    "  </tr>\n",
    "  <tr>\n",
    "    <td>Create more targeted store Ads/Categlog at a supermarket.</td>\n",
    "    <td>Customers' basket information and demographic information collected at check-out through barscode scanning and loyalty programs.</td>\n",
    "    <td>Association Rule Mining</td>\n",
    "    <td>Based on analytical results, store becomes aware which groups are inclined to buy what items together or sequentially. Customized email, coupons and catelogs can be created and delivered.</td>\n",
    "    <td>Increased cross-sell and customer experience with customized services</td>\n",
    "  </tr>\n",
    "  <tr>\n",
    "    <td>Coronavirus Gene-Sequencing and mutation studies.</td>\n",
    "    <td>Viruses' genome data collected from all over the world with lab-tested results.</td>\n",
    "    <td>Association Rule Mining</td>\n",
    "    <td>To discover the association among traits of coronavirus in different countries, and understand how it mutates and spreads from one place to another.</td>\n",
    "    <td>Such relationships mining could help us to understand the virus better from its origin to its current status. It might as well helps to develop medical treatment or vaccine with a greater understanding of where it could go. </td>\n",
    "  </tr>\n",
    "  <tr>\n",
    "    <td>website usage analytics and click through increase.</td>\n",
    "    <td>Users' weblog with tracking information through cookies. Just like what Google Analytics does.</td>\n",
    "    <td>Association Rule Mining</td>\n",
    "    <td>Connecting dots among all the actions an user does before click-through certain ads, which potentially leads to business opportunities. A dynamic and customized experience could be built to tailor groups of customer. For example, website UI and ads appearance.</td>\n",
    "    <td>Such detailed customer behavior mapping and usage preferences could help to understand users' happits and potential business leads can be created if tailoring what he/she likes. Both up-sell and cross-sell can happen.</td>\n",
    "  </tr>\n",
    "</table>"
   ]
  },
  {
   "cell_type": "code",
   "execution_count": null,
   "metadata": {},
   "outputs": [],
   "source": []
  }
 ],
 "metadata": {
  "hide_input": false,
  "kernelspec": {
   "display_name": "Python 3",
   "language": "python",
   "name": "python3"
  },
  "language_info": {
   "codemirror_mode": {
    "name": "ipython",
    "version": 3
   },
   "file_extension": ".py",
   "mimetype": "text/x-python",
   "name": "python",
   "nbconvert_exporter": "python",
   "pygments_lexer": "ipython3",
   "version": "3.7.7"
  },
  "latex_envs": {
   "LaTeX_envs_menu_present": true,
   "autoclose": false,
   "autocomplete": true,
   "bibliofile": "biblio.bib",
   "cite_by": "apalike",
   "current_citInitial": 1,
   "eqLabelWithNumbers": true,
   "eqNumInitial": 1,
   "hotkeys": {
    "equation": "Ctrl-E",
    "itemize": "Ctrl-I"
   },
   "labels_anchors": false,
   "latex_user_defs": false,
   "report_style_numbering": false,
   "user_envs_cfg": false
  },
  "toc": {
   "base_numbering": 1,
   "nav_menu": {},
   "number_sections": false,
   "sideBar": true,
   "skip_h1_title": true,
   "title_cell": "Table of Contents",
   "title_sidebar": "Contents",
   "toc_cell": false,
   "toc_position": {
    "height": "calc(100% - 180px)",
    "left": "10px",
    "top": "150px",
    "width": "384px"
   },
   "toc_section_display": true,
   "toc_window_display": false
  }
 },
 "nbformat": 4,
 "nbformat_minor": 4
}
